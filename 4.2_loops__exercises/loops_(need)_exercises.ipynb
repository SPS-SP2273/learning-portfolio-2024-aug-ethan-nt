{
 "cells": [
  {
   "attachments": {},
   "cell_type": "markdown",
   "id": "123456",
   "metadata": {},
   "source": [
    "<div style=\"text-align:left;font-size:2em\"><span style=\"font-weight:bolder;font-size:1.25em\">SP2273 | Learning Portfolio</span><br><br><span style=\"font-weight:bold;color:darkred\">Loops (Need) Exercises</span></div>"
   ]
  },
  {
   "cell_type": "markdown",
   "id": "508c8c99-a6e2-4b98-b4ad-dc0cd26c7cb0",
   "metadata": {},
   "source": [
    "# Exercise 1"
   ]
  },
  {
   "cell_type": "code",
   "execution_count": 10,
   "id": "7f9fa8df-f42f-42a1-a465-c630d19d5f0d",
   "metadata": {},
   "outputs": [
    {
     "name": "stdout",
     "output_type": "stream",
     "text": [
      "0, 32\n",
      "5, 41\n",
      "10, 50\n",
      "15, 59\n",
      "20, 68\n",
      "25, 77\n",
      "30, 86\n",
      "35, 95\n",
      "40, 104\n",
      "45, 113\n",
      "50, 122\n"
     ]
    }
   ],
   "source": [
    "import numpy as np\n",
    "temperatures_celsius = [\n",
    "    0, 5, 10, 15, 20, 25,\n",
    "    30, 35, 40, 45, 50\n",
    "]\n",
    "fahrenheit=np.array(temperatures_celsius)//5*9+32\n",
    "for index, celsius in enumerate(temperatures_celsius):\n",
    "    print(f'{celsius}, {fahrenheit[index]}')"
   ]
  },
  {
   "cell_type": "markdown",
   "id": "d6a2aecf-a1e7-4a69-a0d7-44807e869f8e",
   "metadata": {},
   "source": [
    "# Exercise 2"
   ]
  },
  {
   "cell_type": "code",
   "execution_count": 19,
   "id": "77d814a9-2dd5-4a52-ba83-efa27cdd1ba0",
   "metadata": {},
   "outputs": [
    {
     "name": "stdout",
     "output_type": "stream",
     "text": [
      "1 : 1   2   3   4   5   \n",
      "2 : 2   4   6   8   10  \n",
      "3 : 3   6   9   12  15  \n",
      "4 : 4   8   12  16  20  \n",
      "5 : 5   10  15  20  25  \n"
     ]
    }
   ],
   "source": [
    "for i in range(1,6):\n",
    "    to_print=f'{i} : '\n",
    "    for j in range (1,6):\n",
    "        if i*j<10:\n",
    "            to_print+=f'{i*j}   '\n",
    "        else:\n",
    "            to_print+=f'{i*j}  '\n",
    "    print(to_print)"
   ]
  },
  {
   "cell_type": "markdown",
   "id": "4f734692-1d7a-481d-9478-b75b31c69b15",
   "metadata": {},
   "source": [
    "# Exercise 3"
   ]
  },
  {
   "cell_type": "code",
   "execution_count": 49,
   "id": "cb9c0a93-8a51-40c3-ba39-c855acb5fee8",
   "metadata": {},
   "outputs": [
    {
     "name": "stdout",
     "output_type": "stream",
     "text": [
      "Experiment  1: No. of Heads = 2\n",
      "Experiment  2: No. of Heads = 8\n",
      "Experiment  3: No. of Heads = 6\n",
      "Experiment  4: No. of Heads = 5\n",
      "Experiment  5: No. of Heads = 8\n",
      "Experiment  6: No. of Heads = 6\n",
      "Experiment  7: No. of Heads = 8\n",
      "Experiment  8: No. of Heads = 5\n",
      "Experiment  9: No. of Heads = 4\n",
      "Experiment 10: No. of Heads = 4\n"
     ]
    }
   ],
   "source": [
    "import numpy as np\n",
    "for i in range(1,11):\n",
    "    arr=np.random.rand(10)\n",
    "    count=0\n",
    "    for j in arr:\n",
    "        if j>0.5:\n",
    "            count+=1\n",
    "    if i<10:\n",
    "        print(f'Experiment  {i}: No. of Heads = {count}')\n",
    "    else:\n",
    "        print(f'Experiment {i}: No. of Heads = {count}')"
   ]
  }
 ],
 "metadata": {
  "kernelspec": {
   "display_name": "Python 3 (ipykernel)",
   "language": "python",
   "name": "python3"
  },
  "language_info": {
   "codemirror_mode": {
    "name": "ipython",
    "version": 3
   },
   "file_extension": ".py",
   "mimetype": "text/x-python",
   "name": "python",
   "nbconvert_exporter": "python",
   "pygments_lexer": "ipython3",
   "version": "3.12.3"
  },
  "toc": {
   "base_numbering": 1,
   "nav_menu": {},
   "number_sections": true,
   "sideBar": true,
   "skip_h1_title": false,
   "title_cell": "Table of Contents",
   "title_sidebar": "Contents",
   "toc_cell": false,
   "toc_position": {},
   "toc_section_display": true,
   "toc_window_display": false
  },
  "vscode": {
   "interpreter": {
    "hash": "31f2aee4e71d21fbe5cf8b01ff0e069b9275f58929596ceb00d14d90e3e16cd6"
   }
  }
 },
 "nbformat": 4,
 "nbformat_minor": 5
}
