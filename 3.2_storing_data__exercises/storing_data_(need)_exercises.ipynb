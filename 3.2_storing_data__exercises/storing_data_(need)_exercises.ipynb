{
 "cells": [
  {
   "attachments": {},
   "cell_type": "markdown",
   "id": "123456",
   "metadata": {},
   "source": [
    "<div style=\"text-align:left;font-size:2em\"><span style=\"font-weight:bolder;font-size:1.25em\">SP2273 | Learning Portfolio</span><br><br><span style=\"font-weight:bold;color:darkred\">Storing Data (Need) Exercises</span></div>"
   ]
  },
  {
   "cell_type": "markdown",
   "id": "a0dc684e-f4df-450b-ada1-f9219539b429",
   "metadata": {},
   "source": [
    "# Exercise 1"
   ]
  },
  {
   "cell_type": "markdown",
   "id": "14979916-85a9-40b9-b7a2-9c3d2ddc2cd4",
   "metadata": {},
   "source": [
    "1. a. They both store values.\n",
    "   b. They both use standard indexing for accessing values.\n",
    "2. a. Values in an array can be operated on at the same time using math operators (+,-,*,/,**) while this is not the case in lists.\n",
    "   b. Values in arrays must be of the same type while this is not the case in lists\n",
    "3. a dictionary is a way to store values where the stored values are accessed their keys instead of indexes."
   ]
  },
  {
   "cell_type": "markdown",
   "id": "4bbf6abe-f07c-4941-8cef-33ab32fc1e18",
   "metadata": {},
   "source": [
    "# Exercise 2"
   ]
  },
  {
   "cell_type": "code",
   "execution_count": 5,
   "id": "dc195ae9-a913-41fc-b0f2-15eb5a0b27f3",
   "metadata": {},
   "outputs": [
    {
     "name": "stdout",
     "output_type": "stream",
     "text": [
      "a1\n",
      "c3\n",
      "e5\n",
      "g7\n",
      "i9\n"
     ]
    }
   ],
   "source": [
    "import numpy as np\n",
    "py_list = [\"a1\", \"b2\", \"c3\", \"d4\", \"e5\", \"f6\", \"g7\", \"h8\", \"i9\", \"j10\"]\n",
    "arr = np.array(py_list)\n",
    "arr=arr[0:10:2]\n",
    "for i in arr:\n",
    "    print(i)"
   ]
  },
  {
   "cell_type": "markdown",
   "id": "0eda6e52-84c7-4e2b-b3a8-c566c3687e4a",
   "metadata": {},
   "source": [
    "# Exercise 3"
   ]
  },
  {
   "cell_type": "code",
   "execution_count": 31,
   "id": "5d093db2-23e5-4078-a49f-4f6a4ecedc04",
   "metadata": {},
   "outputs": [
    {
     "name": "stdout",
     "output_type": "stream",
     "text": [
      "Boron\n",
      "Boron\n"
     ]
    }
   ],
   "source": [
    "elements = ['Hydrogen',\n",
    "            'Helium', 'Lithium',\n",
    "            'Beryllium', 'Boron', 'Carbon',\n",
    "            'Nitrogen', 'Oxygen',\n",
    "            'Fluorine',\n",
    "            'Neon']\n",
    "print(elements[4])\n",
    "print(elements[-6])"
   ]
  },
  {
   "cell_type": "markdown",
   "id": "70e6dcb0-cf7d-4354-87d9-de4acca1890a",
   "metadata": {},
   "source": [
    "# Exercise 4"
   ]
  },
  {
   "cell_type": "code",
   "execution_count": 3,
   "id": "52a6e717-a768-4e8d-b1fd-41ff2f807576",
   "metadata": {},
   "outputs": [
    {
     "name": "stdout",
     "output_type": "stream",
     "text": [
      "9\n"
     ]
    }
   ],
   "source": [
    "import numpy as np\n",
    "numbers=[45, 60, 1, 30, 96, 1, 96, 57, 16, 1,\n",
    "        99, 62, 86, 43, 42, 60, 59, 1, 1, 35,\n",
    "        83, 47, 34, 28, 68, 23, 22, 92, 1, 79,\n",
    "        1, 29, 94, 72, 46, 47, 1, 74, 32, 20,\n",
    "        8, 37, 35, 1, 89, 29, 86, 19, 43, 61]\n",
    "np_numbers=np.array(numbers)\n",
    "print(np.sum(np_numbers==1))"
   ]
  },
  {
   "cell_type": "markdown",
   "id": "4daa3951-e457-4aca-9292-3138336937e6",
   "metadata": {},
   "source": [
    "# Exercise 5"
   ]
  },
  {
   "cell_type": "code",
   "execution_count": 76,
   "id": "7e2fcc1b-b837-4580-9595-bfeeb9a29260",
   "metadata": {},
   "outputs": [
    {
     "name": "stdout",
     "output_type": "stream",
     "text": [
      "mean of x_1 is 38.5\n",
      "mean of x_2 is 302.5\n",
      "standard deviation of x_1 is 32.420\n",
      "standard deviation of x_2 is 326.089\n",
      "correlation coefficient is 0.987\n",
      "correlation coefficient is 0.987\n"
     ]
    }
   ],
   "source": [
    "import numpy as np\n",
    "x_1 = [1, 4, 9, 16, 25, 36, 49, 64, 81, 100]\n",
    "x_2 = [1, 8, 27, 64, 125, 216, 343, 512, 729, 1000]\n",
    "#1\n",
    "print(f\"mean of x_1 is {np.mean(x_1)}\")\n",
    "print(f\"mean of x_2 is {np.mean(x_2)}\")\n",
    "#2\n",
    "print(f\"standard deviation of x_1 is {np.std(x_1):.3f}\")\n",
    "print(f\"standard deviation of x_2 is {np.std(x_2):.3f}\")\n",
    "#3\n",
    "n=len(x_1) #length of list\n",
    "sum1=0 #(x_1_i-mean(x_1))*(x_2_i-mean(x_2))\n",
    "sum2=0 #(x_1_i-mean(x_1))**2\n",
    "sum3=0 #(x_2_i-mean(x_2))**2\n",
    "mean_x_1=np.mean(x_1)\n",
    "mean_x_2=np.mean(x_2)\n",
    "for i in range(0,n):\n",
    "    sum1+=(x_1[i]-mean_x_1)*(x_2[i]-mean_x_2)\n",
    "    sum2+=(x_1[i]-mean_x_1)**2\n",
    "    sum3+=(x_2[i]-mean_x_2)**2\n",
    "corr=sum1/np.sqrt(sum2*sum3)\n",
    "print(f\"correlation coefficient is {corr:.3f}\")\n",
    "#4\n",
    "print(f\"correlation coefficient is {np.corrcoef(x_1,x_2)[0][1]:.3f}\")\n",
    "#correlation coefficient is the same"
   ]
  }
 ],
 "metadata": {
  "kernelspec": {
   "display_name": "Python 3 (ipykernel)",
   "language": "python",
   "name": "python3"
  },
  "language_info": {
   "codemirror_mode": {
    "name": "ipython",
    "version": 3
   },
   "file_extension": ".py",
   "mimetype": "text/x-python",
   "name": "python",
   "nbconvert_exporter": "python",
   "pygments_lexer": "ipython3",
   "version": "3.12.3"
  },
  "toc": {
   "base_numbering": 1,
   "nav_menu": {},
   "number_sections": true,
   "sideBar": true,
   "skip_h1_title": false,
   "title_cell": "Table of Contents",
   "title_sidebar": "Contents",
   "toc_cell": false,
   "toc_position": {},
   "toc_section_display": true,
   "toc_window_display": false
  },
  "vscode": {
   "interpreter": {
    "hash": "31f2aee4e71d21fbe5cf8b01ff0e069b9275f58929596ceb00d14d90e3e16cd6"
   }
  }
 },
 "nbformat": 4,
 "nbformat_minor": 5
}
