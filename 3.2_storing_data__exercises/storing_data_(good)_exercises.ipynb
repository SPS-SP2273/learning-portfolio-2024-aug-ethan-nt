{
 "cells": [
  {
   "attachments": {},
   "cell_type": "markdown",
   "id": "123456",
   "metadata": {},
   "source": [
    "<div style=\"text-align:left;font-size:2em\"><span style=\"font-weight:bolder;font-size:1.25em\">SP2273 | Learning Portfolio</span><br><br><span style=\"font-weight:bold;color:darkred\">Storing Data (Good) Exercises</span></div>"
   ]
  },
  {
   "cell_type": "markdown",
   "id": "ed05725d-e2f0-4467-85e3-e9abaf59109b",
   "metadata": {},
   "source": [
    "# Exercise 1\n",
    "|Term|Brief Description|\n",
    "|:---|:---|\n",
    "|Subsetting|selecting parts of an array|\n",
    "|Indexing|selecting 1 element of an array|\n",
    "|Slicing|selecting multiple elements of an array|\n",
    "|Masking|selecting element(s) of an array based on a certain criteria|"
   ]
  },
  {
   "cell_type": "markdown",
   "id": "52e4ba1d-0826-4fd3-9cfe-22cd87ecd23e",
   "metadata": {},
   "source": [
    "# Exercise 2"
   ]
  },
  {
   "cell_type": "code",
   "execution_count": 41,
   "id": "006b47a7-c084-4eaa-915e-ea86bd470fdb",
   "metadata": {},
   "outputs": [
    {
     "name": "stdout",
     "output_type": "stream",
     "text": [
      "['A', 'C', 'E', 'G', 'I']\n"
     ]
    }
   ],
   "source": [
    "import numpy as np\n",
    "np_array_2d = np.array([[1, \"A\"], [3, \"C\"], [2, \"B\"], [4, \"D\"],\n",
    "                        [5, \"E\"], [7, \"G\"], [6, \"F\"], [8, \"H\"],\n",
    "                        [10, \"J\"], [9, \"I\"]])\n",
    "np_array_1d = np.array(np_array_2d[:,0].astype(int)%2)\n",
    "x = []\n",
    "for i in range(len(np_array_1d)): #find the indexes where the number is odd\n",
    "    if np_array_1d[i]:\n",
    "        x.append(i)\n",
    "y = []\n",
    "for i in x: #use the previous array of indexes to add the letters\n",
    "    y.append(np_array_2d[i][1])\n",
    "print(y)"
   ]
  },
  {
   "cell_type": "markdown",
   "id": "de18a055-3ced-4abd-9585-95fdd620ca22",
   "metadata": {},
   "source": [
    "# Exercise 3"
   ]
  },
  {
   "cell_type": "code",
   "execution_count": 43,
   "id": "2c7933c2-7650-47a9-a150-79bb3ce0e486",
   "metadata": {},
   "outputs": [
    {
     "name": "stdout",
     "output_type": "stream",
     "text": [
      "[[1, 0, 1, -1, -1], [1, -1, 1, -1, -1], [1, -1, -1, 1, -1], [-1, 1, 1, -1, -1], [1, -1, 1, -1, 1]]\n"
     ]
    }
   ],
   "source": [
    "arr=[[66, 50, 57, -1, -1],\n",
    " [92, -1, 88, -1, -1],\n",
    " [75, -1, -1, 76, -1],\n",
    " [-1, 51, 87, -1, -1],\n",
    " [71, -1, 67, -1, 69]]\n",
    "length1 = len(arr)\n",
    "length2 = len(arr[0])\n",
    "for u in range(length1):\n",
    "    for i in range(length2):\n",
    "        if arr[u][i]>50:\n",
    "            arr[u][i]=1\n",
    "        elif arr[u][i]<50:\n",
    "            arr[u][i]=-1\n",
    "        else:\n",
    "            arr[u][i]=0\n",
    "print(arr)"
   ]
  }
 ],
 "metadata": {
  "kernelspec": {
   "display_name": "Python 3 (ipykernel)",
   "language": "python",
   "name": "python3"
  },
  "language_info": {
   "codemirror_mode": {
    "name": "ipython",
    "version": 3
   },
   "file_extension": ".py",
   "mimetype": "text/x-python",
   "name": "python",
   "nbconvert_exporter": "python",
   "pygments_lexer": "ipython3",
   "version": "3.12.3"
  },
  "toc": {
   "base_numbering": 1,
   "nav_menu": {},
   "number_sections": true,
   "sideBar": true,
   "skip_h1_title": false,
   "title_cell": "Table of Contents",
   "title_sidebar": "Contents",
   "toc_cell": false,
   "toc_position": {},
   "toc_section_display": true,
   "toc_window_display": false
  },
  "vscode": {
   "interpreter": {
    "hash": "31f2aee4e71d21fbe5cf8b01ff0e069b9275f58929596ceb00d14d90e3e16cd6"
   }
  }
 },
 "nbformat": 4,
 "nbformat_minor": 5
}
