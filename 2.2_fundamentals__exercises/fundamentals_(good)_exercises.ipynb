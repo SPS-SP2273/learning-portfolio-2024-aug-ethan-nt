{
 "cells": [
  {
   "attachments": {},
   "cell_type": "markdown",
   "id": "123456",
   "metadata": {},
   "source": [
    "<div style=\"text-align:left;font-size:2em\"><span style=\"font-weight:bolder;font-size:1.25em\">SP2273 | Learning Portfolio</span><br><br><span style=\"font-weight:bold;color:darkred\">Fundamentals (Good) Exercises</span></div>"
   ]
  },
  {
   "cell_type": "markdown",
   "id": "ba7dccbb-52d5-4e03-8982-c09a63ad223c",
   "metadata": {},
   "source": [
    "# Exercise 1"
   ]
  },
  {
   "cell_type": "markdown",
   "id": "6cbb44e5-09ed-4286-add6-67fbc1489cfa",
   "metadata": {},
   "source": [
    "## Task 1"
   ]
  },
  {
   "cell_type": "code",
   "execution_count": 42,
   "id": "f67702d8-9c26-4861-a97e-00253878e761",
   "metadata": {},
   "outputs": [
    {
     "name": "stdin",
     "output_type": "stream",
     "text": [
      "What's your name? Ethan\n"
     ]
    },
    {
     "name": "stdout",
     "output_type": "stream",
     "text": [
      "How you doin Ethan!\n"
     ]
    }
   ],
   "source": [
    "user_input = input(\"What's your name?\")\n",
    "print(f\"How you doin {user_input}!\")"
   ]
  },
  {
   "cell_type": "markdown",
   "id": "9603bf6f-7585-423f-8ee3-a4dfb3c9a9d4",
   "metadata": {},
   "source": [
    "## Task 2"
   ]
  },
  {
   "cell_type": "code",
   "execution_count": 40,
   "id": "16fa592e-bd8a-4e38-8c06-8b7c53db070e",
   "metadata": {},
   "outputs": [
    {
     "name": "stdin",
     "output_type": "stream",
     "text": [
      "What's your name? Ethan\n",
      "How old are you? 19\n"
     ]
    },
    {
     "name": "stdout",
     "output_type": "stream",
     "text": [
      "My name is Ethan and I am 19 years old.\n"
     ]
    }
   ],
   "source": [
    "user_input_name = input(\"What's your name?\")\n",
    "user_input_age = input(\"How old are you?\")\n",
    "print(f\"My name is {user_input_name} and I am {user_input_age} years old.\")"
   ]
  },
  {
   "cell_type": "markdown",
   "id": "dccd521d-637c-456e-b20d-3b827c7f5dc7",
   "metadata": {},
   "source": [
    "## Task 3"
   ]
  },
  {
   "cell_type": "code",
   "execution_count": 75,
   "id": "43821d01-4d32-4e5e-a5ee-0b00faa2db20",
   "metadata": {},
   "outputs": [
    {
     "name": "stdout",
     "output_type": "stream",
     "text": [
      "The value of pi to 2 decimal places is:  3.14\n",
      "The value of pi to 3 decimal places is:  3.142\n",
      "The value of pi to 4 decimal places is:  3.1416\n"
     ]
    }
   ],
   "source": [
    "pi = 3.141592653589793\n",
    "print(f\"The value of pi to 2 decimal places is: {pi:< 1.2f}\")\n",
    "print(f\"The value of pi to 3 decimal places is: {pi:< 1.3f}\")\n",
    "print(f\"The value of pi to 4 decimal places is: {pi:< 1.4f}\")"
   ]
  },
  {
   "cell_type": "markdown",
   "id": "9956887a-c5b3-4b1c-9c0c-9fdd0bd0ea70",
   "metadata": {},
   "source": [
    "## Exercise 2"
   ]
  },
  {
   "cell_type": "code",
   "execution_count": 164,
   "id": "569bf9af-4de3-4d2a-9532-3efc80184da6",
   "metadata": {},
   "outputs": [
    {
     "name": "stdin",
     "output_type": "stream",
     "text": [
      "Enter the student's score: 59\n"
     ]
    },
    {
     "name": "stdout",
     "output_type": "stream",
     "text": [
      "The student's letter grade is: B\n"
     ]
    }
   ],
   "source": [
    "input_grade = input(\"Enter the student's score:\")\n",
    "try:\n",
    "    input_grade = int(input_grade)\n",
    "except:\n",
    "    print(\"Error: input is not an integer\")\n",
    "else: \n",
    "    if not(input_grade<0 or input_grade>100):\n",
    "        if input_grade>69:\n",
    "            grade=\"A\"\n",
    "        elif input_grade>49:\n",
    "            grade=\"B\"\n",
    "        elif input_grade>34:\n",
    "            grade=\"C\"\n",
    "        else:\n",
    "            grade=\"Fail\"\n",
    "        print(f\"The student's letter grade is: {grade}\")\n",
    "    else:\n",
    "        print(\"Error: input is out of bounds (0-100)\")"
   ]
  },
  {
   "cell_type": "markdown",
   "id": "3fc67655-215e-4cbc-88b5-ff5cc6cd5e04",
   "metadata": {},
   "source": [
    "## Exercise 3"
   ]
  },
  {
   "cell_type": "code",
   "execution_count": 180,
   "id": "96fdc01d-0faa-4603-8d15-013efdc974f4",
   "metadata": {},
   "outputs": [
    {
     "name": "stdout",
     "output_type": "stream",
     "text": [
      "120\n",
      "Invalid input\n"
     ]
    }
   ],
   "source": [
    "def factorial(n):\n",
    "    if n < 0:\n",
    "        return \"Invalid input\"\n",
    "    elif n == 0:\n",
    "        return 1\n",
    "    else:\n",
    "        result = 1\n",
    "        for number in range(1, n+1):\n",
    "            result *= number\n",
    "        return result\n",
    "\n",
    "\n",
    "print(factorial(5))   # Testing, expected output: 120\n",
    "print(factorial(-1))  # Testing, expected output: Invalid input"
   ]
  }
 ],
 "metadata": {
  "kernelspec": {
   "display_name": "Python 3 (ipykernel)",
   "language": "python",
   "name": "python3"
  },
  "language_info": {
   "codemirror_mode": {
    "name": "ipython",
    "version": 3
   },
   "file_extension": ".py",
   "mimetype": "text/x-python",
   "name": "python",
   "nbconvert_exporter": "python",
   "pygments_lexer": "ipython3",
   "version": "3.12.3"
  },
  "toc": {
   "base_numbering": 1,
   "nav_menu": {},
   "number_sections": true,
   "sideBar": true,
   "skip_h1_title": false,
   "title_cell": "Table of Contents",
   "title_sidebar": "Contents",
   "toc_cell": false,
   "toc_position": {},
   "toc_section_display": true,
   "toc_window_display": false
  },
  "vscode": {
   "interpreter": {
    "hash": "31f2aee4e71d21fbe5cf8b01ff0e069b9275f58929596ceb00d14d90e3e16cd6"
   }
  }
 },
 "nbformat": 4,
 "nbformat_minor": 5
}
