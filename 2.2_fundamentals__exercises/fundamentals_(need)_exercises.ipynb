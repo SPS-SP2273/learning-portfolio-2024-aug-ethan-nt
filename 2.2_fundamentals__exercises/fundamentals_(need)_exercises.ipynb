{
 "cells": [
  {
   "attachments": {},
   "cell_type": "markdown",
   "id": "123456",
   "metadata": {},
   "source": [
    "<div style=\"text-align:left;font-size:2em\"><span style=\"font-weight:bolder;font-size:1.25em\">SP2273 | Learning Portfolio</span><br><br><span style=\"font-weight:bold;color:darkred\">Fundamentals (Need) Exercises</span></div>"
   ]
  },
  {
   "cell_type": "markdown",
   "id": "82f78974-d02c-423d-8871-d79adf4057af",
   "metadata": {},
   "source": [
    "#### Exercise 1:\n",
    "- functions\n",
    "- variables *vs string*\n",
    "- indentation\n",
    "- if & else statements\n",
    "- brackets\n",
    "- lists\n",
    "- dictionaries\n",
    "- case-sensitivity\n",
    "- periods for ownership\n",
    "- libraries *(packages)*\n",
    "- *: for blocks of code*\n",
    "- *comments*\n",
    "- *= vs ==*"
   ]
  },
  {
   "cell_type": "markdown",
   "id": "a6de4cc2-d26d-4743-bf18-8a6f792c637b",
   "metadata": {},
   "source": [
    "#### Exercise 2\n",
    "```python\n",
    "import numpy as np\n",
    "x, y = 3, 4\r",
    "z = int(np.sqrt(x**2 + y**2))\n",
    "print(x, y, z)\n",
    "```"
   ]
  },
  {
   "cell_type": "markdown",
   "id": "38e667ef-a6c7-4e2e-b03f-4765fce4be70",
   "metadata": {},
   "source": [
    "#### Exercise 3\n",
    "| **#** |   **Term**   | **Description** |\n",
    "| :--:  |     :---     |       :--:      |\n",
    "|   1   |   Function   | A function is a code that can accept arguments (or not) to do certain predetermined tasks and is generalised such that it can be called multiple times without having to rewrite the entire code or to even call itself. |\n",
    "|   2   |   Arguments  | Arguments are inputs to a function. |\n",
    "|   3   |   Comments   | Comments are text inside a code that will not be compiled by the compiler. |\n",
    "|   4   | Indentations | Indentations are spaces put in to clarify to both coders and the compiler which function the code belongs to. |\n",
    "|   5   |   Packages   | Packages are pre-written code containing functions to simplify the coding process. |\n",
    "|   6   |       .      | Periods determine which object or package a function or variable belongs to. |\n",
    "|   7   |       :      | Colons indicate that the following block of code belongs to the previous function. |\n",
    "|   8   |       []     | Square brackets indicate a one-dimensional array of data |\n",
    "|   9   |    [[],[]]   | Nested square brackets indicate a 2-dimensional array of data |\n",
    "|  10   |       {}     | Curly brackets indicate a dictionary |\n"
   ]
  },
  {
   "cell_type": "markdown",
   "id": "79932648-4c3e-45f3-bc02-5a7781f1eed4",
   "metadata": {},
   "source": [
    "#### Exercise 4\n",
    "```python\n",
    "5/2 #returns a floating point value of 5/2=2.5\n",
    "5//2 #returns an integer value of the floor of 5/2=2\n",
    "5%2 #returns an integer value of 5 mod 2 = 1\n",
    "```"
   ]
  }
 ],
 "metadata": {
  "kernelspec": {
   "display_name": "Python 3 (ipykernel)",
   "language": "python",
   "name": "python3"
  },
  "language_info": {
   "codemirror_mode": {
    "name": "ipython",
    "version": 3
   },
   "file_extension": ".py",
   "mimetype": "text/x-python",
   "name": "python",
   "nbconvert_exporter": "python",
   "pygments_lexer": "ipython3",
   "version": "3.12.3"
  },
  "toc": {
   "base_numbering": 1,
   "nav_menu": {},
   "number_sections": true,
   "sideBar": true,
   "skip_h1_title": false,
   "title_cell": "Table of Contents",
   "title_sidebar": "Contents",
   "toc_cell": false,
   "toc_position": {},
   "toc_section_display": true,
   "toc_window_display": false
  },
  "vscode": {
   "interpreter": {
    "hash": "31f2aee4e71d21fbe5cf8b01ff0e069b9275f58929596ceb00d14d90e3e16cd6"
   }
  }
 },
 "nbformat": 4,
 "nbformat_minor": 5
}
