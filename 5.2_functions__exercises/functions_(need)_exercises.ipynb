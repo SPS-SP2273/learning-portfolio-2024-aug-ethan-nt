{
 "cells": [
  {
   "attachments": {},
   "cell_type": "markdown",
   "id": "123456",
   "metadata": {},
   "source": [
    "<div style=\"text-align:left;font-size:2em\"><span style=\"font-weight:bolder;font-size:1.25em\">SP2273 | Learning Portfolio</span><br><br><span style=\"font-weight:bold;color:darkred\">Functions (Need) Exercises</span></div>"
   ]
  },
  {
   "cell_type": "markdown",
   "id": "2b5ba815-8a7e-47dd-b2fa-ad7d89d2ba41",
   "metadata": {},
   "source": [
    " # Exercise 1"
   ]
  },
  {
   "cell_type": "markdown",
   "id": "cafe80e9-3d20-41be-94f1-ed290fa595df",
   "metadata": {},
   "source": [
    "This is because when the condition of the if statement is true, a value is returned and hence the function is exited (the rest of the code below the return statement is not run)"
   ]
  },
  {
   "cell_type": "markdown",
   "id": "f43a7cd6-4aca-4aca-b067-3fc0850af169",
   "metadata": {},
   "source": [
    "# Exercise 2"
   ]
  },
  {
   "cell_type": "code",
   "execution_count": 5,
   "id": "b610ddc9-1a11-4aa7-8953-912408fb4085",
   "metadata": {},
   "outputs": [],
   "source": [
    "def calculate_bmi(weight,height):\n",
    "    BMI = weight / (height ** 2)\n",
    "    if BMI<18.5: return 'Underweight'\n",
    "    elif BMI<=24.9: return 'Normal weight'\n",
    "    elif BMI<=29.9: return 'Overweight'\n",
    "    else: return 'Obese'"
   ]
  },
  {
   "cell_type": "markdown",
   "id": "0fc6c7ce-e0bc-42b7-afe2-a4ae0fc08579",
   "metadata": {},
   "source": [
    "# Exercise 3"
   ]
  },
  {
   "cell_type": "code",
   "execution_count": 9,
   "id": "c9689220-cc5e-45ff-9f35-2148e9d480e6",
   "metadata": {},
   "outputs": [],
   "source": [
    "def factorial(n):\n",
    "    if n<0: return \"Error\"\n",
    "    if n==0: return 1\n",
    "    return n*factorial(n-1)"
   ]
  }
 ],
 "metadata": {
  "kernelspec": {
   "display_name": "Python 3 (ipykernel)",
   "language": "python",
   "name": "python3"
  },
  "language_info": {
   "codemirror_mode": {
    "name": "ipython",
    "version": 3
   },
   "file_extension": ".py",
   "mimetype": "text/x-python",
   "name": "python",
   "nbconvert_exporter": "python",
   "pygments_lexer": "ipython3",
   "version": "3.12.3"
  },
  "toc": {
   "base_numbering": 1,
   "nav_menu": {},
   "number_sections": true,
   "sideBar": true,
   "skip_h1_title": false,
   "title_cell": "Table of Contents",
   "title_sidebar": "Contents",
   "toc_cell": false,
   "toc_position": {},
   "toc_section_display": true,
   "toc_window_display": false
  },
  "vscode": {
   "interpreter": {
    "hash": "31f2aee4e71d21fbe5cf8b01ff0e069b9275f58929596ceb00d14d90e3e16cd6"
   }
  }
 },
 "nbformat": 4,
 "nbformat_minor": 5
}
