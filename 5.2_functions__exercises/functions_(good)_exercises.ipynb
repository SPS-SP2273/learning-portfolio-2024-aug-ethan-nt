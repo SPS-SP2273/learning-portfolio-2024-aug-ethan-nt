{
 "cells": [
  {
   "attachments": {},
   "cell_type": "markdown",
   "id": "123456",
   "metadata": {},
   "source": [
    "<div style=\"text-align:left;font-size:2em\"><span style=\"font-weight:bolder;font-size:1.25em\">SP2273 | Learning Portfolio</span><br><br><span style=\"font-weight:bold;color:darkred\">Functions (Good) Exercises</span></div>"
   ]
  },
  {
   "cell_type": "markdown",
   "id": "a3e17038-4fe3-407d-a2d8-b31cdc3b498c",
   "metadata": {},
   "source": [
    "# Exercise 1"
   ]
  },
  {
   "cell_type": "code",
   "execution_count": 11,
   "id": "bf75b59f-1835-4fde-ac69-d7fca453bd32",
   "metadata": {},
   "outputs": [],
   "source": [
    "def convert_celsius(temperature_celsius,target_scale='Fahrenheit'):\n",
    "    if target_scale=='Fahrenheit': return temperature_celsius*1.8+32\n",
    "    if target_scale=='Kelvin': return temperature_celsius+273.15"
   ]
  },
  {
   "cell_type": "markdown",
   "id": "89cc9901-2530-449a-8839-191706ddee86",
   "metadata": {},
   "source": [
    "# Exercise 2"
   ]
  },
  {
   "cell_type": "code",
   "execution_count": 2,
   "id": "ea39a9ef-4892-41fb-b701-eae01923cf37",
   "metadata": {},
   "outputs": [],
   "source": [
    "def convert_fahrenheit(temperature_fahrenheit,target_scale='Celsius'):\n",
    "    if target_scale=='Celsius': return (temperature_fahrenheit-32)/1.8\n",
    "    if target_scale=='Kelvin': return (temperature_fahrenheit-32)/1.8+273.15"
   ]
  },
  {
   "cell_type": "markdown",
   "id": "861a7ee9-fdea-4f0f-9a4a-7cc6c55ee05a",
   "metadata": {},
   "source": [
    "# Exercise 3"
   ]
  },
  {
   "cell_type": "code",
   "execution_count": 7,
   "id": "0617eb51-34a9-4cfa-9ba6-857138418c09",
   "metadata": {},
   "outputs": [],
   "source": [
    "def convert_temperature(temperature,source_scale,target_scale):\n",
    "    if source_scale=='Celsius': return convert_celsius(temperature,target_scale)\n",
    "    if source_scale=='Fahrenheit': return convert_fahrenfeit(temperature,target_scale)\n",
    "    if source_scale=='Kelvin': return convert_celsius(temperature+273.15,target_scale)"
   ]
  },
  {
   "cell_type": "markdown",
   "id": "51987658-6999-4bf9-8c33-371bf4e3f8b3",
   "metadata": {},
   "source": [
    "# Bonus Exercise"
   ]
  },
  {
   "cell_type": "code",
   "execution_count": 29,
   "id": "f17e8c9f-b74d-43de-8491-12167c5861bf",
   "metadata": {},
   "outputs": [
    {
     "name": "stdout",
     "output_type": "stream",
     "text": [
      "True\n",
      "True\n",
      "False\n"
     ]
    }
   ],
   "source": [
    "#I considered space(' ') a punctuation here. If space(' ') were not considered a punctuation, it can be added to num_al.\n",
    "def is_palindrome(str):\n",
    "    num_al='abcdefghijklmnopqrstuvwxyz1234567890'\n",
    "    str_new=str.lower()\n",
    "    i=0\n",
    "    j=len(str)-1\n",
    "    while(j-i>0):\n",
    "        while str_new[i] not in num_al:i+=1\n",
    "        while str_new[j] not in num_al:j-=1\n",
    "        if str_new[i]!=str_new[j]: return False\n",
    "        i+=1\n",
    "        j-=1\n",
    "    return True\n",
    "\n",
    "print(is_palindrome('Did Hannah see bees? Hannah did.'))\n",
    "print(is_palindrome('123.21'))\n",
    "print(is_palindrome('LeveI'))"
   ]
  }
 ],
 "metadata": {
  "kernelspec": {
   "display_name": "Python 3 (ipykernel)",
   "language": "python",
   "name": "python3"
  },
  "language_info": {
   "codemirror_mode": {
    "name": "ipython",
    "version": 3
   },
   "file_extension": ".py",
   "mimetype": "text/x-python",
   "name": "python",
   "nbconvert_exporter": "python",
   "pygments_lexer": "ipython3",
   "version": "3.12.3"
  },
  "toc": {
   "base_numbering": 1,
   "nav_menu": {},
   "number_sections": true,
   "sideBar": true,
   "skip_h1_title": false,
   "title_cell": "Table of Contents",
   "title_sidebar": "Contents",
   "toc_cell": false,
   "toc_position": {},
   "toc_section_display": true,
   "toc_window_display": false
  },
  "vscode": {
   "interpreter": {
    "hash": "31f2aee4e71d21fbe5cf8b01ff0e069b9275f58929596ceb00d14d90e3e16cd6"
   }
  }
 },
 "nbformat": 4,
 "nbformat_minor": 5
}
